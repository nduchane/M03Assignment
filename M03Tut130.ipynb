{
 "cells": [
  {
   "cell_type": "code",
   "execution_count": 1,
   "id": "2b8dbcfe",
   "metadata": {},
   "outputs": [],
   "source": [
    "class Pets():\n",
    "    animals = []\n",
    "    def __init__(self, animals):\n",
    "        self.animals = animals\n",
    "\n",
    "    def walk(self):\n",
    "        for animal in self.animals:\n",
    "            print(animal.walk())\n",
    "\n",
    "class Cat():\n",
    "    is_lazy = True\n",
    "\n",
    "    def __init__(self, name, age):\n",
    "        self.name = name\n",
    "        self.age = age\n",
    "\n",
    "    def walk(self):\n",
    "        return f'{self.name} is just walking around'\n",
    "\n",
    "class Simon(Cat):\n",
    "    def sing(self, sounds):\n",
    "        return f'{sounds}'\n",
    "\n",
    "class Sally(Cat):\n",
    "    def sing(self, sounds):\n",
    "        return f'{sounds}'"
   ]
  },
  {
   "cell_type": "markdown",
   "id": "8fa9d9ae",
   "metadata": {},
   "source": [
    "#1 Add Another Cat"
   ]
  },
  {
   "cell_type": "code",
   "execution_count": 2,
   "id": "fdcff81b",
   "metadata": {},
   "outputs": [],
   "source": [
    "class Bill(Cat):\n",
    "    def sing(self, sounds):\n",
    "        return f'{sounds}'"
   ]
  },
  {
   "cell_type": "markdown",
   "id": "5bcf1423",
   "metadata": {},
   "source": [
    "#2 Create a list of all of the pets (create 3 cat instances from the above)"
   ]
  },
  {
   "cell_type": "code",
   "execution_count": 7,
   "id": "013e7763",
   "metadata": {},
   "outputs": [],
   "source": [
    "my_cats = [Simon('Simon', 3), Sally('Sally', 5), Bill('Bill', 9)]"
   ]
  },
  {
   "cell_type": "markdown",
   "id": "dfeac805",
   "metadata": {},
   "source": [
    "#3 Instantiate the Pet class with all your cats"
   ]
  },
  {
   "cell_type": "code",
   "execution_count": 8,
   "id": "b16929f0",
   "metadata": {},
   "outputs": [],
   "source": [
    "my_pets = Pets(my_cats)"
   ]
  },
  {
   "cell_type": "markdown",
   "id": "3c1259bd",
   "metadata": {},
   "source": [
    "#4 Output all of the cats singing using the my_pets instance"
   ]
  },
  {
   "cell_type": "code",
   "execution_count": 9,
   "id": "fda006ea",
   "metadata": {},
   "outputs": [
    {
     "name": "stdout",
     "output_type": "stream",
     "text": [
      "Simon is just walking around\n",
      "Sally is just walking around\n",
      "Bill is just walking around\n"
     ]
    }
   ],
   "source": [
    "my_pets.walk()"
   ]
  },
  {
   "cell_type": "code",
   "execution_count": null,
   "id": "8e2c64d3",
   "metadata": {},
   "outputs": [],
   "source": []
  }
 ],
 "metadata": {
  "kernelspec": {
   "display_name": "Python 3 (ipykernel)",
   "language": "python",
   "name": "python3"
  },
  "language_info": {
   "codemirror_mode": {
    "name": "ipython",
    "version": 3
   },
   "file_extension": ".py",
   "mimetype": "text/x-python",
   "name": "python",
   "nbconvert_exporter": "python",
   "pygments_lexer": "ipython3",
   "version": "3.9.12"
  }
 },
 "nbformat": 4,
 "nbformat_minor": 5
}
