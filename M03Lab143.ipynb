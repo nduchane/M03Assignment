{
 "cells": [
  {
   "cell_type": "markdown",
   "id": "0d53f0d1",
   "metadata": {},
   "source": [
    "Nicholas DuChane"
   ]
  },
  {
   "cell_type": "markdown",
   "id": "0e86b853",
   "metadata": {},
   "source": [
    "M03Lab143"
   ]
  },
  {
   "cell_type": "code",
   "execution_count": 3,
   "id": "a0d4dbed",
   "metadata": {},
   "outputs": [],
   "source": [
    "my_list = [5,4,3]"
   ]
  },
  {
   "cell_type": "code",
   "execution_count": 5,
   "id": "4424f4f8",
   "metadata": {},
   "outputs": [],
   "source": [
    "new_list = list(map(lambda num: num**2, my_list))"
   ]
  },
  {
   "cell_type": "code",
   "execution_count": 6,
   "id": "4fe0552f",
   "metadata": {},
   "outputs": [
    {
     "name": "stdout",
     "output_type": "stream",
     "text": [
      "[25, 16, 9]\n"
     ]
    }
   ],
   "source": [
    "print(new_list)"
   ]
  },
  {
   "cell_type": "code",
   "execution_count": 7,
   "id": "4da5f3d8",
   "metadata": {},
   "outputs": [],
   "source": [
    "a = [(0, 2), (4, 3), (10, -1), (9, 9)]"
   ]
  },
  {
   "cell_type": "code",
   "execution_count": 12,
   "id": "af14df46",
   "metadata": {},
   "outputs": [],
   "source": [
    "a.sort(key=lambda x: x[1])"
   ]
  },
  {
   "cell_type": "code",
   "execution_count": 13,
   "id": "9b7fd270",
   "metadata": {},
   "outputs": [
    {
     "name": "stdout",
     "output_type": "stream",
     "text": [
      "[(10, -1), (0, 2), (5, 2), (9, 9)]\n"
     ]
    }
   ],
   "source": [
    "print(a)"
   ]
  },
  {
   "cell_type": "code",
   "execution_count": null,
   "id": "553de5d7",
   "metadata": {},
   "outputs": [],
   "source": []
  }
 ],
 "metadata": {
  "kernelspec": {
   "display_name": "Python 3 (ipykernel)",
   "language": "python",
   "name": "python3"
  },
  "language_info": {
   "codemirror_mode": {
    "name": "ipython",
    "version": 3
   },
   "file_extension": ".py",
   "mimetype": "text/x-python",
   "name": "python",
   "nbconvert_exporter": "python",
   "pygments_lexer": "ipython3",
   "version": "3.9.12"
  }
 },
 "nbformat": 4,
 "nbformat_minor": 5
}
